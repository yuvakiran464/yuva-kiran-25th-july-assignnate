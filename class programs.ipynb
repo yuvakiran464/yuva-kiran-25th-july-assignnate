{
 "cells": [
  {
   "cell_type": "code",
   "execution_count": null,
   "metadata": {},
   "outputs": [],
   "source": []
  },
  {
   "cell_type": "code",
   "execution_count": 5,
   "metadata": {},
   "outputs": [
    {
     "name": "stdout",
     "output_type": "stream",
     "text": [
      "2\n",
      "bye\n"
     ]
    }
   ],
   "source": [
    "x=int(input())\n",
    "if x>10:\n",
    "    print(\"hello\")\n",
    "else:\n",
    "    print(\"bye\")"
   ]
  },
  {
   "cell_type": "code",
   "execution_count": 1,
   "metadata": {},
   "outputs": [
    {
     "name": "stdout",
     "output_type": "stream",
     "text": [
      "enter the total marks60\n",
      "enter the science marks60\n",
      "you got placed in c2\n"
     ]
    }
   ],
   "source": [
    "t_marks=int(input(\"enter the total marks\"))\n",
    "s_marks=int(input(\"enter the science marks\"))\n",
    "\n",
    "if t_marks>=80 and s_marks>90:\n",
    "    print(\"you got placed in c1\")\n",
    "elif t_marks>50 and s_marks>50:\n",
    "    print(\"you got placed in c2\")\n",
    "elif t_marks>30 and s_marks>30:\n",
    "    print(\"you got placed in c3\")\n",
    "else:\n",
    "    print(\"rejected\")"
   ]
  },
  {
   "cell_type": "code",
   "execution_count": 2,
   "metadata": {},
   "outputs": [
    {
     "name": "stdout",
     "output_type": "stream",
     "text": [
      "enter the number10\n",
      "hello\n"
     ]
    }
   ],
   "source": [
    "x=int(input(\"enter the number\"))\n",
    "\n",
    "if x%5==0:\n",
    "    print(\"hello\")\n",
    "else:\n",
    "    print(\"bye\")"
   ]
  },
  {
   "cell_type": "code",
   "execution_count": null,
   "metadata": {},
   "outputs": [],
   "source": [
    "x=int(input(\"enter the units\"))\n",
    "\n",
    "if x<=100 and x>1:\n",
    "    print(\"no charge\")\n",
    "elif x<=200 and x>100:\n",
    "    print(x-100)*5\n",
    "elif x>200:\n",
    "    print(\"10 rs per unit\",500+(x-200)*10)\n",
    "else:\n",
    "    print(\"no current\")"
   ]
  },
  {
   "cell_type": "code",
   "execution_count": null,
   "metadata": {
    "scrolled": true
   },
   "outputs": [],
   "source": [
    "x=int(input(\"enter the number\"))\n",
    " \n",
    "y= x%10\n",
    "\n",
    "if y%3==0:\n",
    "    print(\"the last digit is divisble by 3\")\n",
    "else:\n",
    "    print(\"the last digit is not divisble by 3\")"
   ]
  },
  {
   "cell_type": "code",
   "execution_count": null,
   "metadata": {},
   "outputs": [],
   "source": []
  },
  {
   "cell_type": "code",
   "execution_count": 1,
   "metadata": {},
   "outputs": [
    {
     "name": "stdout",
     "output_type": "stream",
     "text": [
      "enter the age19\n",
      "you are eligible\n"
     ]
    }
   ],
   "source": [
    "age=int(input(\"enter the age\"))\n",
    "\n",
    "if age>18:\n",
    "    print(\"you are eligible\")\n",
    "else:\n",
    "    print(\"you are not eligible\")"
   ]
  },
  {
   "cell_type": "code",
   "execution_count": 10,
   "metadata": {},
   "outputs": [
    {
     "data": {
      "text/plain": [
       "49"
      ]
     },
     "execution_count": 10,
     "metadata": {},
     "output_type": "execute_result"
    }
   ],
   "source": [
    "ord(\"1\")"
   ]
  },
  {
   "cell_type": "code",
   "execution_count": 11,
   "metadata": {},
   "outputs": [
    {
     "data": {
      "text/plain": [
       "'0b1'"
      ]
     },
     "execution_count": 11,
     "metadata": {},
     "output_type": "execute_result"
    }
   ],
   "source": [
    "bin(1)"
   ]
  },
  {
   "cell_type": "code",
   "execution_count": null,
   "metadata": {},
   "outputs": [],
   "source": [
    "x=int(input(\"enter the number\"))\n",
    "\n",
    "if x%2==0:\n",
    "    print(\"even\")\n",
    "else:\n",
    "    print(\"odd\")"
   ]
  },
  {
   "cell_type": "code",
   "execution_count": null,
   "metadata": {},
   "outputs": [],
   "source": []
  },
  {
   "cell_type": "code",
   "execution_count": null,
   "metadata": {},
   "outputs": [],
   "source": []
  },
  {
   "cell_type": "code",
   "execution_count": 3,
   "metadata": {},
   "outputs": [
    {
     "name": "stdout",
     "output_type": "stream",
     "text": [
      "enter the number14\n",
      "it is divisble by 7\n"
     ]
    }
   ],
   "source": [
    "x=int(input(\"enter the number\"))\n",
    " \n",
    "if x%7==0:\n",
    "    print(\"it is divisble by 7\")\n",
    "else:\n",
    "    print(\"not divisible\")"
   ]
  },
  {
   "cell_type": "code",
   "execution_count": null,
   "metadata": {},
   "outputs": [],
   "source": []
  }
 ],
 "metadata": {
  "kernelspec": {
   "display_name": "Python 3",
   "language": "python",
   "name": "python3"
  },
  "language_info": {
   "codemirror_mode": {
    "name": "ipython",
    "version": 3
   },
   "file_extension": ".py",
   "mimetype": "text/x-python",
   "name": "python",
   "nbconvert_exporter": "python",
   "pygments_lexer": "ipython3",
   "version": "3.8.5"
  }
 },
 "nbformat": 4,
 "nbformat_minor": 4
}
